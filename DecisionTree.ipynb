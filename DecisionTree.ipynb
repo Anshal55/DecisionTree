{
  "nbformat": 4,
  "nbformat_minor": 0,
  "metadata": {
    "colab": {
      "name": "DecisionTree.ipynb",
      "provenance": []
    },
    "kernelspec": {
      "name": "python3",
      "display_name": "Python 3"
    }
  },
  "cells": [
    {
      "cell_type": "markdown",
      "metadata": {
        "id": "77h4gMwQWK9S"
      },
      "source": [
        "## Decision Tree Plotting"
      ]
    },
    {
      "cell_type": "code",
      "metadata": {
        "id": "XIlFRxXsOjSX"
      },
      "source": [
        "import numpy as np\r\n",
        "import matplotlib.pyplot as plt\r\n",
        "import seaborn as sns"
      ],
      "execution_count": 22,
      "outputs": []
    },
    {
      "cell_type": "code",
      "metadata": {
        "id": "tBYK8JpcL9ia"
      },
      "source": [
        "import pandas as pd\r\n",
        "url=\"https://archive.ics.uci.edu/ml/machine-learning-databases/balance-scale/balance-scale.data\""
      ],
      "execution_count": 3,
      "outputs": []
    },
    {
      "cell_type": "code",
      "metadata": {
        "id": "oiT_Es_mMMkl"
      },
      "source": [
        "dataset=pd.read_csv(url,header=None)"
      ],
      "execution_count": 6,
      "outputs": []
    },
    {
      "cell_type": "code",
      "metadata": {
        "colab": {
          "base_uri": "https://localhost:8080/",
          "height": 402
        },
        "id": "RSOZIBIiMa47",
        "outputId": "7a56ae0d-537b-4f0e-f0a7-246b3a3da8c0"
      },
      "source": [
        "dataset"
      ],
      "execution_count": 7,
      "outputs": [
        {
          "output_type": "execute_result",
          "data": {
            "text/html": [
              "<div>\n",
              "<style scoped>\n",
              "    .dataframe tbody tr th:only-of-type {\n",
              "        vertical-align: middle;\n",
              "    }\n",
              "\n",
              "    .dataframe tbody tr th {\n",
              "        vertical-align: top;\n",
              "    }\n",
              "\n",
              "    .dataframe thead th {\n",
              "        text-align: right;\n",
              "    }\n",
              "</style>\n",
              "<table border=\"1\" class=\"dataframe\">\n",
              "  <thead>\n",
              "    <tr style=\"text-align: right;\">\n",
              "      <th></th>\n",
              "      <th>0</th>\n",
              "      <th>1</th>\n",
              "      <th>2</th>\n",
              "      <th>3</th>\n",
              "      <th>4</th>\n",
              "    </tr>\n",
              "  </thead>\n",
              "  <tbody>\n",
              "    <tr>\n",
              "      <th>0</th>\n",
              "      <td>B</td>\n",
              "      <td>1</td>\n",
              "      <td>1</td>\n",
              "      <td>1</td>\n",
              "      <td>1</td>\n",
              "    </tr>\n",
              "    <tr>\n",
              "      <th>1</th>\n",
              "      <td>R</td>\n",
              "      <td>1</td>\n",
              "      <td>1</td>\n",
              "      <td>1</td>\n",
              "      <td>2</td>\n",
              "    </tr>\n",
              "    <tr>\n",
              "      <th>2</th>\n",
              "      <td>R</td>\n",
              "      <td>1</td>\n",
              "      <td>1</td>\n",
              "      <td>1</td>\n",
              "      <td>3</td>\n",
              "    </tr>\n",
              "    <tr>\n",
              "      <th>3</th>\n",
              "      <td>R</td>\n",
              "      <td>1</td>\n",
              "      <td>1</td>\n",
              "      <td>1</td>\n",
              "      <td>4</td>\n",
              "    </tr>\n",
              "    <tr>\n",
              "      <th>4</th>\n",
              "      <td>R</td>\n",
              "      <td>1</td>\n",
              "      <td>1</td>\n",
              "      <td>1</td>\n",
              "      <td>5</td>\n",
              "    </tr>\n",
              "    <tr>\n",
              "      <th>...</th>\n",
              "      <td>...</td>\n",
              "      <td>...</td>\n",
              "      <td>...</td>\n",
              "      <td>...</td>\n",
              "      <td>...</td>\n",
              "    </tr>\n",
              "    <tr>\n",
              "      <th>620</th>\n",
              "      <td>L</td>\n",
              "      <td>5</td>\n",
              "      <td>5</td>\n",
              "      <td>5</td>\n",
              "      <td>1</td>\n",
              "    </tr>\n",
              "    <tr>\n",
              "      <th>621</th>\n",
              "      <td>L</td>\n",
              "      <td>5</td>\n",
              "      <td>5</td>\n",
              "      <td>5</td>\n",
              "      <td>2</td>\n",
              "    </tr>\n",
              "    <tr>\n",
              "      <th>622</th>\n",
              "      <td>L</td>\n",
              "      <td>5</td>\n",
              "      <td>5</td>\n",
              "      <td>5</td>\n",
              "      <td>3</td>\n",
              "    </tr>\n",
              "    <tr>\n",
              "      <th>623</th>\n",
              "      <td>L</td>\n",
              "      <td>5</td>\n",
              "      <td>5</td>\n",
              "      <td>5</td>\n",
              "      <td>4</td>\n",
              "    </tr>\n",
              "    <tr>\n",
              "      <th>624</th>\n",
              "      <td>B</td>\n",
              "      <td>5</td>\n",
              "      <td>5</td>\n",
              "      <td>5</td>\n",
              "      <td>5</td>\n",
              "    </tr>\n",
              "  </tbody>\n",
              "</table>\n",
              "<p>625 rows × 5 columns</p>\n",
              "</div>"
            ],
            "text/plain": [
              "     0  1  2  3  4\n",
              "0    B  1  1  1  1\n",
              "1    R  1  1  1  2\n",
              "2    R  1  1  1  3\n",
              "3    R  1  1  1  4\n",
              "4    R  1  1  1  5\n",
              "..  .. .. .. .. ..\n",
              "620  L  5  5  5  1\n",
              "621  L  5  5  5  2\n",
              "622  L  5  5  5  3\n",
              "623  L  5  5  5  4\n",
              "624  B  5  5  5  5\n",
              "\n",
              "[625 rows x 5 columns]"
            ]
          },
          "metadata": {
            "tags": []
          },
          "execution_count": 7
        }
      ]
    },
    {
      "cell_type": "code",
      "metadata": {
        "colab": {
          "base_uri": "https://localhost:8080/"
        },
        "id": "jCJG0ZSbM9bA",
        "outputId": "6cd24ac5-061d-43a4-d7a4-c20c2e4ec1b5"
      },
      "source": [
        "dataset.isnull().sum()"
      ],
      "execution_count": 14,
      "outputs": [
        {
          "output_type": "execute_result",
          "data": {
            "text/plain": [
              "0    0\n",
              "1    0\n",
              "2    0\n",
              "3    0\n",
              "4    0\n",
              "dtype: int64"
            ]
          },
          "metadata": {
            "tags": []
          },
          "execution_count": 14
        }
      ]
    },
    {
      "cell_type": "code",
      "metadata": {
        "id": "Wii899FYNk49"
      },
      "source": [
        "df=dataset"
      ],
      "execution_count": 15,
      "outputs": []
    },
    {
      "cell_type": "code",
      "metadata": {
        "colab": {
          "base_uri": "https://localhost:8080/"
        },
        "id": "6JQLEiPoNo9w",
        "outputId": "73a0c4df-9d06-4db4-8fbd-ed1e2aee3a61"
      },
      "source": [
        "target=df[0]\r\n",
        "data=df.drop(columns=[0])\r\n",
        "print(data)\r\n",
        "print(target)"
      ],
      "execution_count": 18,
      "outputs": [
        {
          "output_type": "stream",
          "text": [
            "     1  2  3  4\n",
            "0    1  1  1  1\n",
            "1    1  1  1  2\n",
            "2    1  1  1  3\n",
            "3    1  1  1  4\n",
            "4    1  1  1  5\n",
            "..  .. .. .. ..\n",
            "620  5  5  5  1\n",
            "621  5  5  5  2\n",
            "622  5  5  5  3\n",
            "623  5  5  5  4\n",
            "624  5  5  5  5\n",
            "\n",
            "[625 rows x 4 columns]\n",
            "0      B\n",
            "1      R\n",
            "2      R\n",
            "3      R\n",
            "4      R\n",
            "      ..\n",
            "620    L\n",
            "621    L\n",
            "622    L\n",
            "623    L\n",
            "624    B\n",
            "Name: 0, Length: 625, dtype: object\n"
          ],
          "name": "stdout"
        }
      ]
    },
    {
      "cell_type": "code",
      "metadata": {
        "id": "Eb_BOnbWQq-d"
      },
      "source": [
        "X = df.values[:, 1:5]\r\n",
        "Y = df.values[:,0]"
      ],
      "execution_count": 27,
      "outputs": []
    },
    {
      "cell_type": "markdown",
      "metadata": {
        "id": "kro5zdXnOZCQ"
      },
      "source": [
        "- L [balance scale tip to the left]\r\n",
        "- B [balance scale be balanced]\r\n",
        "- R [balance scale tip to the right]"
      ]
    },
    {
      "cell_type": "code",
      "metadata": {
        "colab": {
          "base_uri": "https://localhost:8080/"
        },
        "id": "fbOmlZGnN1Aj",
        "outputId": "b34a591c-e320-4408-845a-3c658c4829eb"
      },
      "source": [
        "df[0].nunique()"
      ],
      "execution_count": 20,
      "outputs": [
        {
          "output_type": "execute_result",
          "data": {
            "text/plain": [
              "3"
            ]
          },
          "metadata": {
            "tags": []
          },
          "execution_count": 20
        }
      ]
    },
    {
      "cell_type": "code",
      "metadata": {
        "colab": {
          "base_uri": "https://localhost:8080/"
        },
        "id": "n-WQBdtgONxr",
        "outputId": "213332fa-229e-4f48-ff9d-e5445dafc091"
      },
      "source": [
        "df[0].value_counts()"
      ],
      "execution_count": 21,
      "outputs": [
        {
          "output_type": "execute_result",
          "data": {
            "text/plain": [
              "L    288\n",
              "R    288\n",
              "B     49\n",
              "Name: 0, dtype: int64"
            ]
          },
          "metadata": {
            "tags": []
          },
          "execution_count": 21
        }
      ]
    },
    {
      "cell_type": "code",
      "metadata": {
        "id": "JVpuSdIoOTzo"
      },
      "source": [
        "from sklearn.model_selection import train_test_split\r\n",
        "from sklearn.metrics import accuracy_score,confusion_matrix,r2_score,classification_report\r\n",
        "from sklearn.tree import DecisionTreeClassifier"
      ],
      "execution_count": 23,
      "outputs": []
    },
    {
      "cell_type": "code",
      "metadata": {
        "id": "JOsLX8MKPkyd"
      },
      "source": [
        "x_train,x_test,y_train,y_test=train_test_split(data,target,test_size=0.3,random_state=100)"
      ],
      "execution_count": 31,
      "outputs": []
    },
    {
      "cell_type": "markdown",
      "metadata": {
        "id": "G9a73HaVRZlJ"
      },
      "source": [
        "- Using gini"
      ]
    },
    {
      "cell_type": "code",
      "metadata": {
        "id": "8OVJ6TkNP9pX"
      },
      "source": [
        "dt_gini=DecisionTreeClassifier(criterion='gini',random_state=100,max_depth=3,min_samples_leaf=5)"
      ],
      "execution_count": 25,
      "outputs": []
    },
    {
      "cell_type": "code",
      "metadata": {
        "colab": {
          "base_uri": "https://localhost:8080/"
        },
        "id": "Y3O805l-QKOP",
        "outputId": "ba081d26-b707-4e91-d963-30567e3570a0"
      },
      "source": [
        "dt_gini.fit(x_train,y_train)"
      ],
      "execution_count": 32,
      "outputs": [
        {
          "output_type": "execute_result",
          "data": {
            "text/plain": [
              "DecisionTreeClassifier(ccp_alpha=0.0, class_weight=None, criterion='gini',\n",
              "                       max_depth=3, max_features=None, max_leaf_nodes=None,\n",
              "                       min_impurity_decrease=0.0, min_impurity_split=None,\n",
              "                       min_samples_leaf=5, min_samples_split=2,\n",
              "                       min_weight_fraction_leaf=0.0, presort='deprecated',\n",
              "                       random_state=100, splitter='best')"
            ]
          },
          "metadata": {
            "tags": []
          },
          "execution_count": 32
        }
      ]
    },
    {
      "cell_type": "code",
      "metadata": {
        "colab": {
          "base_uri": "https://localhost:8080/"
        },
        "id": "SRZmGb-VQP1j",
        "outputId": "55d1ebaa-1f78-4934-a4f3-636e9981ca86"
      },
      "source": [
        "print(accuracy_score(dt_gini.predict(x_train),y_train)*100)"
      ],
      "execution_count": 52,
      "outputs": [
        {
          "output_type": "stream",
          "text": [
            "77.34553775743707\n"
          ],
          "name": "stdout"
        }
      ]
    },
    {
      "cell_type": "markdown",
      "metadata": {
        "id": "j2bn8rHKRbn1"
      },
      "source": [
        "- using entropy"
      ]
    },
    {
      "cell_type": "code",
      "metadata": {
        "id": "pZrQjZeRRJGk"
      },
      "source": [
        "dt_en=DecisionTreeClassifier(criterion='entropy',max_depth=3,min_samples_leaf=5,ccp_alpha=0.000001)"
      ],
      "execution_count": 62,
      "outputs": []
    },
    {
      "cell_type": "code",
      "metadata": {
        "colab": {
          "base_uri": "https://localhost:8080/"
        },
        "id": "2z2SH1I3RyBH",
        "outputId": "ff635622-6d30-4485-97ab-186d10bccbf0"
      },
      "source": [
        "dt_en.fit(x_train,y_train)"
      ],
      "execution_count": 63,
      "outputs": [
        {
          "output_type": "execute_result",
          "data": {
            "text/plain": [
              "DecisionTreeClassifier(ccp_alpha=1e-06, class_weight=None, criterion='entropy',\n",
              "                       max_depth=3, max_features=None, max_leaf_nodes=None,\n",
              "                       min_impurity_decrease=0.0, min_impurity_split=None,\n",
              "                       min_samples_leaf=5, min_samples_split=2,\n",
              "                       min_weight_fraction_leaf=0.0, presort='deprecated',\n",
              "                       random_state=None, splitter='best')"
            ]
          },
          "metadata": {
            "tags": []
          },
          "execution_count": 63
        }
      ]
    },
    {
      "cell_type": "code",
      "metadata": {
        "colab": {
          "base_uri": "https://localhost:8080/"
        },
        "id": "huKDzcF4R2wm",
        "outputId": "17d06741-80a9-49cd-9cf6-e1e568e5c7b0"
      },
      "source": [
        "print(accuracy_score(dt_en.predict(x_train),y_train)*100)"
      ],
      "execution_count": 64,
      "outputs": [
        {
          "output_type": "stream",
          "text": [
            "77.11670480549199\n"
          ],
          "name": "stdout"
        }
      ]
    },
    {
      "cell_type": "code",
      "metadata": {
        "colab": {
          "base_uri": "https://localhost:8080/"
        },
        "id": "Ya00wvZRR-xc",
        "outputId": "21a54ba8-836c-4e17-dff4-3429cd2cef36"
      },
      "source": [
        "dt_en.fit(x_test,y_test)"
      ],
      "execution_count": 44,
      "outputs": [
        {
          "output_type": "execute_result",
          "data": {
            "text/plain": [
              "DecisionTreeClassifier(ccp_alpha=0.0, class_weight=None, criterion='entropy',\n",
              "                       max_depth=3, max_features=None, max_leaf_nodes=None,\n",
              "                       min_impurity_decrease=0.0, min_impurity_split=None,\n",
              "                       min_samples_leaf=5, min_samples_split=2,\n",
              "                       min_weight_fraction_leaf=0.0, presort='deprecated',\n",
              "                       random_state=100, splitter='best')"
            ]
          },
          "metadata": {
            "tags": []
          },
          "execution_count": 44
        }
      ]
    },
    {
      "cell_type": "code",
      "metadata": {
        "colab": {
          "base_uri": "https://localhost:8080/"
        },
        "id": "ipswxLjhShna",
        "outputId": "3f40408d-2380-4240-902f-6a8aa49dc52f"
      },
      "source": [
        "print(accuracy_score(dt_en.predict(x_test),y_test)*100)"
      ],
      "execution_count": 50,
      "outputs": [
        {
          "output_type": "stream",
          "text": [
            "80.85106382978722\n"
          ],
          "name": "stdout"
        }
      ]
    },
    {
      "cell_type": "code",
      "metadata": {
        "colab": {
          "base_uri": "https://localhost:8080/"
        },
        "id": "Q1XHhYc8SpMT",
        "outputId": "31a5db7c-91ed-424a-a816-8187cd822f58"
      },
      "source": [
        "dt_en.predict(x_test)"
      ],
      "execution_count": 46,
      "outputs": [
        {
          "output_type": "execute_result",
          "data": {
            "text/plain": [
              "array(['L', 'L', 'R', 'L', 'R', 'L', 'R', 'L', 'L', 'R', 'L', 'L', 'R',\n",
              "       'R', 'R', 'R', 'L', 'L', 'R', 'L', 'L', 'L', 'R', 'L', 'R', 'L',\n",
              "       'L', 'L', 'L', 'R', 'R', 'L', 'L', 'L', 'R', 'L', 'R', 'R', 'L',\n",
              "       'R', 'R', 'L', 'R', 'L', 'R', 'R', 'L', 'R', 'L', 'L', 'R', 'R',\n",
              "       'L', 'L', 'R', 'L', 'R', 'R', 'L', 'L', 'L', 'R', 'R', 'R', 'R',\n",
              "       'R', 'L', 'R', 'R', 'L', 'L', 'R', 'R', 'L', 'R', 'L', 'R', 'R',\n",
              "       'R', 'L', 'R', 'L', 'L', 'L', 'R', 'L', 'R', 'L', 'R', 'L', 'R',\n",
              "       'R', 'L', 'L', 'L', 'R', 'R', 'L', 'R', 'R', 'R', 'L', 'R', 'R',\n",
              "       'L', 'R', 'R', 'R', 'L', 'L', 'R', 'L', 'R', 'R', 'L', 'L', 'L',\n",
              "       'R', 'R', 'R', 'L', 'R', 'R', 'R', 'L', 'L', 'L', 'R', 'L', 'R',\n",
              "       'R', 'L', 'R', 'L', 'R', 'R', 'R', 'L', 'L', 'L', 'L', 'L', 'L',\n",
              "       'R', 'L', 'L', 'R', 'L', 'R', 'R', 'L', 'L', 'L', 'R', 'R', 'R',\n",
              "       'L', 'R', 'L', 'L', 'R', 'R', 'L', 'R', 'R', 'R', 'L', 'R', 'R',\n",
              "       'R', 'R', 'R', 'R', 'R', 'L', 'R', 'R', 'L', 'R', 'R', 'L', 'R',\n",
              "       'R', 'L', 'L', 'R', 'R', 'L'], dtype=object)"
            ]
          },
          "metadata": {
            "tags": []
          },
          "execution_count": 46
        }
      ]
    },
    {
      "cell_type": "code",
      "metadata": {
        "colab": {
          "base_uri": "https://localhost:8080/"
        },
        "id": "0vAdchTiSvH8",
        "outputId": "36b4e099-cf75-4548-8c28-62e903a800de"
      },
      "source": [
        "print(confusion_matrix(dt_en.predict(x_train),y_train))"
      ],
      "execution_count": 48,
      "outputs": [
        {
          "output_type": "stream",
          "text": [
            "[[  0   0   0]\n",
            " [ 23 161  43]\n",
            " [ 13  42 155]]\n"
          ],
          "name": "stdout"
        }
      ]
    },
    {
      "cell_type": "code",
      "metadata": {
        "colab": {
          "base_uri": "https://localhost:8080/"
        },
        "id": "kw5h0tLNS8yN",
        "outputId": "d58d7c2c-cffd-47a9-c01d-3b6c19021e15"
      },
      "source": [
        "print(classification_report(dt_en.predict(x_train),y_train))"
      ],
      "execution_count": 49,
      "outputs": [
        {
          "output_type": "stream",
          "text": [
            "              precision    recall  f1-score   support\n",
            "\n",
            "           B       0.00      0.00      0.00         0\n",
            "           L       0.79      0.71      0.75       227\n",
            "           R       0.78      0.74      0.76       210\n",
            "\n",
            "    accuracy                           0.72       437\n",
            "   macro avg       0.53      0.48      0.50       437\n",
            "weighted avg       0.79      0.72      0.75       437\n",
            "\n"
          ],
          "name": "stdout"
        },
        {
          "output_type": "stream",
          "text": [
            "/usr/local/lib/python3.7/dist-packages/sklearn/metrics/_classification.py:1272: UndefinedMetricWarning: Recall and F-score are ill-defined and being set to 0.0 in labels with no true samples. Use `zero_division` parameter to control this behavior.\n",
            "  _warn_prf(average, modifier, msg_start, len(result))\n"
          ],
          "name": "stderr"
        }
      ]
    },
    {
      "cell_type": "code",
      "metadata": {
        "colab": {
          "base_uri": "https://localhost:8080/",
          "height": 605
        },
        "id": "RcYZy2CjTHcn",
        "outputId": "db8691a6-2209-4d66-97bc-ad437affa1f2"
      },
      "source": [
        "plt.figure(figsize=(10,10))\r\n",
        "from sklearn import tree\r\n",
        "tree.plot_tree(dt_en,filled=True,rounded=True)\r\n",
        "plt.title(\"Decision tree\",pad=20)\r\n",
        "plt.show()"
      ],
      "execution_count": 76,
      "outputs": [
        {
          "output_type": "display_data",
          "data": {
            "image/png": "[encoded data removed]",
            "text/plain": [
              "<Figure size 720x720 with 1 Axes>"
            ]
          },
          "metadata": {
            "tags": [],
            "needs_background": "light"
          }
        }
      ]
    },
    {
      "cell_type": "code",
      "metadata": {
        "id": "-tzE2wsqUV6W"
      },
      "source": [
        "import graphviz"
      ],
      "execution_count": 74,
      "outputs": []
    },
    {
      "cell_type": "code",
      "metadata": {
        "colab": {
          "base_uri": "https://localhost:8080/",
          "height": 538
        },
        "id": "Y9Q4FeXBVelQ",
        "outputId": "ab20da69-97f1-4a66-9dc2-787fcc12eb3e"
      },
      "source": [
        "dot_data=tree.export_graphviz(dt_gini,max_depth=4,rounded=True,filled=True)\r\n",
        "graph=graphviz.Source(dot_data)\r\n",
        "graph"
      ],
      "execution_count": 78,
      "outputs": [
        {
          "output_type": "execute_result",
          "data": {
            "text/plain": [
              "<graphviz.files.Source at 0x7f2b1ec22a50>"
            ],
            "image/svg+xml": "<?xml version=\"1.0\" encoding=\"UTF-8\" standalone=\"no\"?>\n<!DOCTYPE svg PUBLIC \"-//W3C//DTD SVG 1.1//EN\"\n \"http://www.w3.org/Graphics/SVG/1.1/DTD/svg11.dtd\">\n<!-- Generated by graphviz version 2.40.1 (20161225.0304)\n -->\n<!-- Title: Tree Pages: 1 -->\n<svg width=\"1134pt\" height=\"373pt\"\n viewBox=\"0.00 0.00 1134.00 373.00\" xmlns=\"http://www.w3.org/2000/svg\" xmlns:xlink=\"http://www.w3.org/1999/xlink\">\n<g id=\"graph0\" class=\"graph\" transform=\"scale(1 1) rotate(0) translate(4 369)\">\n<title>Tree</title>\n<polygon fill=\"#ffffff\" stroke=\"transparent\" points=\"-4,4 -4,-369 1130,-369 1130,4 -4,4\"/>\n<!-- 0 -->\n<g id=\"node1\" class=\"node\">\n<title>0</title>\n<path fill=\"#fbfefc\" stroke=\"#000000\" d=\"M607.5,-365C607.5,-365 475.5,-365 475.5,-365 469.5,-365 463.5,-359 463.5,-353 463.5,-353 463.5,-309 463.5,-309 463.5,-303 469.5,-297 475.5,-297 475.5,-297 607.5,-297 607.5,-297 613.5,-297 619.5,-303 619.5,-309 619.5,-309 619.5,-353 619.5,-353 619.5,-359 613.5,-365 607.5,-365\"/>\n<text text-anchor=\"middle\" x=\"541.5\" y=\"-349.8\" font-family=\"Helvetica,sans-Serif\" font-size=\"14.00\" fill=\"#000000\">X[2] &lt;= 2.5</text>\n<text text-anchor=\"middle\" x=\"541.5\" y=\"-334.8\" font-family=\"Helvetica,sans-Serif\" font-size=\"14.00\" fill=\"#000000\">gini = 0.572</text>\n<text text-anchor=\"middle\" x=\"541.5\" y=\"-319.8\" font-family=\"Helvetica,sans-Serif\" font-size=\"14.00\" fill=\"#000000\">samples = 437</text>\n<text text-anchor=\"middle\" x=\"541.5\" y=\"-304.8\" font-family=\"Helvetica,sans-Serif\" font-size=\"14.00\" fill=\"#000000\">value = [36, 203, 198]</text>\n</g>\n<!-- 1 -->\n<g id=\"node2\" class=\"node\">\n<title>1</title>\n<path fill=\"#82efb0\" stroke=\"#000000\" d=\"M463.5,-261C463.5,-261 339.5,-261 339.5,-261 333.5,-261 327.5,-255 327.5,-249 327.5,-249 327.5,-205 327.5,-205 327.5,-199 333.5,-193 339.5,-193 339.5,-193 463.5,-193 463.5,-193 469.5,-193 475.5,-199 475.5,-205 475.5,-205 475.5,-249 475.5,-249 475.5,-255 469.5,-261 463.5,-261\"/>\n<text text-anchor=\"middle\" x=\"401.5\" y=\"-245.8\" font-family=\"Helvetica,sans-Serif\" font-size=\"14.00\" fill=\"#000000\">X[1] &lt;= 1.5</text>\n<text text-anchor=\"middle\" x=\"401.5\" y=\"-230.8\" font-family=\"Helvetica,sans-Serif\" font-size=\"14.00\" fill=\"#000000\">gini = 0.446</text>\n<text text-anchor=\"middle\" x=\"401.5\" y=\"-215.8\" font-family=\"Helvetica,sans-Serif\" font-size=\"14.00\" fill=\"#000000\">samples = 165</text>\n<text text-anchor=\"middle\" x=\"401.5\" y=\"-200.8\" font-family=\"Helvetica,sans-Serif\" font-size=\"14.00\" fill=\"#000000\">value = [13, 117, 35]</text>\n</g>\n<!-- 0&#45;&gt;1 -->\n<g id=\"edge1\" class=\"edge\">\n<title>0&#45;&gt;1</title>\n<path fill=\"none\" stroke=\"#000000\" d=\"M495.6588,-296.9465C482.8471,-287.4293 468.8048,-276.9978 455.5656,-267.163\"/>\n<polygon fill=\"#000000\" stroke=\"#000000\" points=\"457.5588,-264.2837 447.4442,-261.13 453.3845,-269.9029 457.5588,-264.2837\"/>\n<text text-anchor=\"middle\" x=\"451.0932\" y=\"-282.1623\" font-family=\"Helvetica,sans-Serif\" font-size=\"14.00\" fill=\"#000000\">True</text>\n</g>\n<!-- 8 -->\n<g id=\"node9\" class=\"node\">\n<title>8</title>\n<path fill=\"#cbadf4\" stroke=\"#000000\" d=\"M751.5,-261C751.5,-261 627.5,-261 627.5,-261 621.5,-261 615.5,-255 615.5,-249 615.5,-249 615.5,-205 615.5,-205 615.5,-199 621.5,-193 627.5,-193 627.5,-193 751.5,-193 751.5,-193 757.5,-193 763.5,-199 763.5,-205 763.5,-205 763.5,-249 763.5,-249 763.5,-255 757.5,-261 751.5,-261\"/>\n<text text-anchor=\"middle\" x=\"689.5\" y=\"-245.8\" font-family=\"Helvetica,sans-Serif\" font-size=\"14.00\" fill=\"#000000\">X[3] &lt;= 2.5</text>\n<text text-anchor=\"middle\" x=\"689.5\" y=\"-230.8\" font-family=\"Helvetica,sans-Serif\" font-size=\"14.00\" fill=\"#000000\">gini = 0.534</text>\n<text text-anchor=\"middle\" x=\"689.5\" y=\"-215.8\" font-family=\"Helvetica,sans-Serif\" font-size=\"14.00\" fill=\"#000000\">samples = 272</text>\n<text text-anchor=\"middle\" x=\"689.5\" y=\"-200.8\" font-family=\"Helvetica,sans-Serif\" font-size=\"14.00\" fill=\"#000000\">value = [23, 86, 163]</text>\n</g>\n<!-- 0&#45;&gt;8 -->\n<g id=\"edge8\" class=\"edge\">\n<title>0&#45;&gt;8</title>\n<path fill=\"none\" stroke=\"#000000\" d=\"M589.9607,-296.9465C603.6323,-287.3395 618.6294,-276.8009 632.7409,-266.8848\"/>\n<polygon fill=\"#000000\" stroke=\"#000000\" points=\"634.7608,-269.7432 640.9304,-261.13 630.7361,-264.0158 634.7608,-269.7432\"/>\n<text text-anchor=\"middle\" x=\"636.6304\" y=\"-282.0574\" font-family=\"Helvetica,sans-Serif\" font-size=\"14.00\" fill=\"#000000\">False</text>\n</g>\n<!-- 2 -->\n<g id=\"node3\" class=\"node\">\n<title>2</title>\n<path fill=\"#bd97f1\" stroke=\"#000000\" d=\"M244,-157C244,-157 145,-157 145,-157 139,-157 133,-151 133,-145 133,-145 133,-101 133,-101 133,-95 139,-89 145,-89 145,-89 244,-89 244,-89 250,-89 256,-95 256,-101 256,-101 256,-145 256,-145 256,-151 250,-157 244,-157\"/>\n<text text-anchor=\"middle\" x=\"194.5\" y=\"-141.8\" font-family=\"Helvetica,sans-Serif\" font-size=\"14.00\" fill=\"#000000\">X[3] &lt;= 2.5</text>\n<text text-anchor=\"middle\" x=\"194.5\" y=\"-126.8\" font-family=\"Helvetica,sans-Serif\" font-size=\"14.00\" fill=\"#000000\">gini = 0.532</text>\n<text text-anchor=\"middle\" x=\"194.5\" y=\"-111.8\" font-family=\"Helvetica,sans-Serif\" font-size=\"14.00\" fill=\"#000000\">samples = 27</text>\n<text text-anchor=\"middle\" x=\"194.5\" y=\"-96.8\" font-family=\"Helvetica,sans-Serif\" font-size=\"14.00\" fill=\"#000000\">value = [4, 6, 17]</text>\n</g>\n<!-- 1&#45;&gt;2 -->\n<g id=\"edge2\" class=\"edge\">\n<title>1&#45;&gt;2</title>\n<path fill=\"none\" stroke=\"#000000\" d=\"M333.7205,-192.9465C311.7505,-181.9085 287.333,-169.6407 265.1591,-158.5002\"/>\n<polygon fill=\"#000000\" stroke=\"#000000\" points=\"266.6408,-155.3278 256.1339,-153.9658 263.4982,-161.5827 266.6408,-155.3278\"/>\n</g>\n<!-- 5 -->\n<g id=\"node6\" class=\"node\">\n<title>5</title>\n<path fill=\"#66eb9d\" stroke=\"#000000\" d=\"M459.5,-157C459.5,-157 343.5,-157 343.5,-157 337.5,-157 331.5,-151 331.5,-145 331.5,-145 331.5,-101 331.5,-101 331.5,-95 337.5,-89 343.5,-89 343.5,-89 459.5,-89 459.5,-89 465.5,-89 471.5,-95 471.5,-101 471.5,-101 471.5,-145 471.5,-145 471.5,-151 465.5,-157 459.5,-157\"/>\n<text text-anchor=\"middle\" x=\"401.5\" y=\"-141.8\" font-family=\"Helvetica,sans-Serif\" font-size=\"14.00\" fill=\"#000000\">X[0] &lt;= 1.5</text>\n<text text-anchor=\"middle\" x=\"401.5\" y=\"-126.8\" font-family=\"Helvetica,sans-Serif\" font-size=\"14.00\" fill=\"#000000\">gini = 0.332</text>\n<text text-anchor=\"middle\" x=\"401.5\" y=\"-111.8\" font-family=\"Helvetica,sans-Serif\" font-size=\"14.00\" fill=\"#000000\">samples = 138</text>\n<text text-anchor=\"middle\" x=\"401.5\" y=\"-96.8\" font-family=\"Helvetica,sans-Serif\" font-size=\"14.00\" fill=\"#000000\">value = [9, 111, 18]</text>\n</g>\n<!-- 1&#45;&gt;5 -->\n<g id=\"edge5\" class=\"edge\">\n<title>1&#45;&gt;5</title>\n<path fill=\"none\" stroke=\"#000000\" d=\"M401.5,-192.9465C401.5,-184.776 401.5,-175.9318 401.5,-167.3697\"/>\n<polygon fill=\"#000000\" stroke=\"#000000\" points=\"405.0001,-167.13 401.5,-157.13 398.0001,-167.13 405.0001,-167.13\"/>\n</g>\n<!-- 3 -->\n<g id=\"node4\" class=\"node\">\n<title>3</title>\n<path fill=\"#e6fcef\" stroke=\"#000000\" d=\"M103,-53C103,-53 12,-53 12,-53 6,-53 0,-47 0,-41 0,-41 0,-12 0,-12 0,-6 6,0 12,0 12,0 103,0 103,0 109,0 115,-6 115,-12 115,-12 115,-41 115,-41 115,-47 109,-53 103,-53\"/>\n<text text-anchor=\"middle\" x=\"57.5\" y=\"-37.8\" font-family=\"Helvetica,sans-Serif\" font-size=\"14.00\" fill=\"#000000\">gini = 0.653</text>\n<text text-anchor=\"middle\" x=\"57.5\" y=\"-22.8\" font-family=\"Helvetica,sans-Serif\" font-size=\"14.00\" fill=\"#000000\">samples = 12</text>\n<text text-anchor=\"middle\" x=\"57.5\" y=\"-7.8\" font-family=\"Helvetica,sans-Serif\" font-size=\"14.00\" fill=\"#000000\">value = [4, 5, 3]</text>\n</g>\n<!-- 2&#45;&gt;3 -->\n<g id=\"edge3\" class=\"edge\">\n<title>2&#45;&gt;3</title>\n<path fill=\"none\" stroke=\"#000000\" d=\"M146.1989,-88.9777C132.4189,-79.2713 117.4411,-68.7213 103.7845,-59.1018\"/>\n<polygon fill=\"#000000\" stroke=\"#000000\" points=\"105.6655,-56.1457 95.4745,-53.2485 101.6345,-61.8686 105.6655,-56.1457\"/>\n</g>\n<!-- 4 -->\n<g id=\"node5\" class=\"node\">\n<title>4</title>\n<path fill=\"#8a47e7\" stroke=\"#000000\" d=\"M244,-53C244,-53 145,-53 145,-53 139,-53 133,-47 133,-41 133,-41 133,-12 133,-12 133,-6 139,0 145,0 145,0 244,0 244,0 250,0 256,-6 256,-12 256,-12 256,-41 256,-41 256,-47 250,-53 244,-53\"/>\n<text text-anchor=\"middle\" x=\"194.5\" y=\"-37.8\" font-family=\"Helvetica,sans-Serif\" font-size=\"14.00\" fill=\"#000000\">gini = 0.124</text>\n<text text-anchor=\"middle\" x=\"194.5\" y=\"-22.8\" font-family=\"Helvetica,sans-Serif\" font-size=\"14.00\" fill=\"#000000\">samples = 15</text>\n<text text-anchor=\"middle\" x=\"194.5\" y=\"-7.8\" font-family=\"Helvetica,sans-Serif\" font-size=\"14.00\" fill=\"#000000\">value = [0, 1, 14]</text>\n</g>\n<!-- 2&#45;&gt;4 -->\n<g id=\"edge4\" class=\"edge\">\n<title>2&#45;&gt;4</title>\n<path fill=\"none\" stroke=\"#000000\" d=\"M194.5,-88.9777C194.5,-80.7364 194.5,-71.887 194.5,-63.5153\"/>\n<polygon fill=\"#000000\" stroke=\"#000000\" points=\"198.0001,-63.2484 194.5,-53.2485 191.0001,-63.2485 198.0001,-63.2484\"/>\n</g>\n<!-- 6 -->\n<g id=\"node7\" class=\"node\">\n<title>6</title>\n<path fill=\"#efe6fc\" stroke=\"#000000\" d=\"M385,-53C385,-53 286,-53 286,-53 280,-53 274,-47 274,-41 274,-41 274,-12 274,-12 274,-6 280,0 286,0 286,0 385,0 385,0 391,0 397,-6 397,-12 397,-12 397,-41 397,-41 397,-47 391,-53 385,-53\"/>\n<text text-anchor=\"middle\" x=\"335.5\" y=\"-37.8\" font-family=\"Helvetica,sans-Serif\" font-size=\"14.00\" fill=\"#000000\">gini = 0.637</text>\n<text text-anchor=\"middle\" x=\"335.5\" y=\"-22.8\" font-family=\"Helvetica,sans-Serif\" font-size=\"14.00\" fill=\"#000000\">samples = 25</text>\n<text text-anchor=\"middle\" x=\"335.5\" y=\"-7.8\" font-family=\"Helvetica,sans-Serif\" font-size=\"14.00\" fill=\"#000000\">value = [5, 9, 11]</text>\n</g>\n<!-- 5&#45;&gt;6 -->\n<g id=\"edge6\" class=\"edge\">\n<title>5&#45;&gt;6</title>\n<path fill=\"none\" stroke=\"#000000\" d=\"M378.2309,-88.9777C372.156,-80.0954 365.5979,-70.5067 359.4865,-61.5711\"/>\n<polygon fill=\"#000000\" stroke=\"#000000\" points=\"362.3286,-59.5267 353.7943,-53.2485 356.5507,-63.4785 362.3286,-59.5267\"/>\n</g>\n<!-- 7 -->\n<g id=\"node8\" class=\"node\">\n<title>7</title>\n<path fill=\"#4ee88e\" stroke=\"#000000\" d=\"M534,-53C534,-53 427,-53 427,-53 421,-53 415,-47 415,-41 415,-41 415,-12 415,-12 415,-6 421,0 427,0 427,0 534,0 534,0 540,0 546,-6 546,-12 546,-12 546,-41 546,-41 546,-47 540,-53 534,-53\"/>\n<text text-anchor=\"middle\" x=\"480.5\" y=\"-37.8\" font-family=\"Helvetica,sans-Serif\" font-size=\"14.00\" fill=\"#000000\">gini = 0.18</text>\n<text text-anchor=\"middle\" x=\"480.5\" y=\"-22.8\" font-family=\"Helvetica,sans-Serif\" font-size=\"14.00\" fill=\"#000000\">samples = 113</text>\n<text text-anchor=\"middle\" x=\"480.5\" y=\"-7.8\" font-family=\"Helvetica,sans-Serif\" font-size=\"14.00\" fill=\"#000000\">value = [4, 102, 7]</text>\n</g>\n<!-- 5&#45;&gt;7 -->\n<g id=\"edge7\" class=\"edge\">\n<title>5&#45;&gt;7</title>\n<path fill=\"none\" stroke=\"#000000\" d=\"M429.3524,-88.9777C436.7739,-79.9123 444.7977,-70.111 452.2407,-61.0192\"/>\n<polygon fill=\"#000000\" stroke=\"#000000\" points=\"454.9759,-63.2034 458.6023,-53.2485 449.5595,-58.7692 454.9759,-63.2034\"/>\n</g>\n<!-- 9 -->\n<g id=\"node10\" class=\"node\">\n<title>9</title>\n<path fill=\"#bbf6d4\" stroke=\"#000000\" d=\"M747.5,-157C747.5,-157 631.5,-157 631.5,-157 625.5,-157 619.5,-151 619.5,-145 619.5,-145 619.5,-101 619.5,-101 619.5,-95 625.5,-89 631.5,-89 631.5,-89 747.5,-89 747.5,-89 753.5,-89 759.5,-95 759.5,-101 759.5,-101 759.5,-145 759.5,-145 759.5,-151 753.5,-157 747.5,-157\"/>\n<text text-anchor=\"middle\" x=\"689.5\" y=\"-141.8\" font-family=\"Helvetica,sans-Serif\" font-size=\"14.00\" fill=\"#000000\">X[0] &lt;= 1.5</text>\n<text text-anchor=\"middle\" x=\"689.5\" y=\"-126.8\" font-family=\"Helvetica,sans-Serif\" font-size=\"14.00\" fill=\"#000000\">gini = 0.559</text>\n<text text-anchor=\"middle\" x=\"689.5\" y=\"-111.8\" font-family=\"Helvetica,sans-Serif\" font-size=\"14.00\" fill=\"#000000\">samples = 110</text>\n<text text-anchor=\"middle\" x=\"689.5\" y=\"-96.8\" font-family=\"Helvetica,sans-Serif\" font-size=\"14.00\" fill=\"#000000\">value = [11, 62, 37]</text>\n</g>\n<!-- 8&#45;&gt;9 -->\n<g id=\"edge9\" class=\"edge\">\n<title>8&#45;&gt;9</title>\n<path fill=\"none\" stroke=\"#000000\" d=\"M689.5,-192.9465C689.5,-184.776 689.5,-175.9318 689.5,-167.3697\"/>\n<polygon fill=\"#000000\" stroke=\"#000000\" points=\"693.0001,-167.13 689.5,-157.13 686.0001,-167.13 693.0001,-167.13\"/>\n</g>\n<!-- 12 -->\n<g id=\"node13\" class=\"node\">\n<title>12</title>\n<path fill=\"#a26dec\" stroke=\"#000000\" d=\"M977.5,-157C977.5,-157 853.5,-157 853.5,-157 847.5,-157 841.5,-151 841.5,-145 841.5,-145 841.5,-101 841.5,-101 841.5,-95 847.5,-89 853.5,-89 853.5,-89 977.5,-89 977.5,-89 983.5,-89 989.5,-95 989.5,-101 989.5,-101 989.5,-145 989.5,-145 989.5,-151 983.5,-157 977.5,-157\"/>\n<text text-anchor=\"middle\" x=\"915.5\" y=\"-141.8\" font-family=\"Helvetica,sans-Serif\" font-size=\"14.00\" fill=\"#000000\">X[0] &lt;= 3.5</text>\n<text text-anchor=\"middle\" x=\"915.5\" y=\"-126.8\" font-family=\"Helvetica,sans-Serif\" font-size=\"14.00\" fill=\"#000000\">gini = 0.368</text>\n<text text-anchor=\"middle\" x=\"915.5\" y=\"-111.8\" font-family=\"Helvetica,sans-Serif\" font-size=\"14.00\" fill=\"#000000\">samples = 162</text>\n<text text-anchor=\"middle\" x=\"915.5\" y=\"-96.8\" font-family=\"Helvetica,sans-Serif\" font-size=\"14.00\" fill=\"#000000\">value = [12, 24, 126]</text>\n</g>\n<!-- 8&#45;&gt;12 -->\n<g id=\"edge12\" class=\"edge\">\n<title>8&#45;&gt;12</title>\n<path fill=\"none\" stroke=\"#000000\" d=\"M763.5009,-192.9465C785.4508,-182.8457 809.6384,-171.7151 832.139,-161.3608\"/>\n<polygon fill=\"#000000\" stroke=\"#000000\" points=\"833.7117,-164.4899 841.3329,-157.13 830.7854,-158.1309 833.7117,-164.4899\"/>\n</g>\n<!-- 10 -->\n<g id=\"node11\" class=\"node\">\n<title>10</title>\n<path fill=\"#a06aec\" stroke=\"#000000\" d=\"M675,-53C675,-53 576,-53 576,-53 570,-53 564,-47 564,-41 564,-41 564,-12 564,-12 564,-6 570,0 576,0 576,0 675,0 675,0 681,0 687,-6 687,-12 687,-12 687,-41 687,-41 687,-47 681,-53 675,-53\"/>\n<text text-anchor=\"middle\" x=\"625.5\" y=\"-37.8\" font-family=\"Helvetica,sans-Serif\" font-size=\"14.00\" fill=\"#000000\">gini = 0.37</text>\n<text text-anchor=\"middle\" x=\"625.5\" y=\"-22.8\" font-family=\"Helvetica,sans-Serif\" font-size=\"14.00\" fill=\"#000000\">samples = 27</text>\n<text text-anchor=\"middle\" x=\"625.5\" y=\"-7.8\" font-family=\"Helvetica,sans-Serif\" font-size=\"14.00\" fill=\"#000000\">value = [3, 3, 21]</text>\n</g>\n<!-- 9&#45;&gt;10 -->\n<g id=\"edge10\" class=\"edge\">\n<title>9&#45;&gt;10</title>\n<path fill=\"none\" stroke=\"#000000\" d=\"M666.936,-88.9777C661.1059,-80.187 654.8169,-70.7044 648.943,-61.8477\"/>\n<polygon fill=\"#000000\" stroke=\"#000000\" points=\"651.6838,-59.6478 643.2399,-53.2485 645.8502,-63.5167 651.6838,-59.6478\"/>\n</g>\n<!-- 11 -->\n<g id=\"node12\" class=\"node\">\n<title>11</title>\n<path fill=\"#80eeae\" stroke=\"#000000\" d=\"M824,-53C824,-53 717,-53 717,-53 711,-53 705,-47 705,-41 705,-41 705,-12 705,-12 705,-6 711,0 717,0 717,0 824,0 824,0 830,0 836,-6 836,-12 836,-12 836,-41 836,-41 836,-47 830,-53 824,-53\"/>\n<text text-anchor=\"middle\" x=\"770.5\" y=\"-37.8\" font-family=\"Helvetica,sans-Serif\" font-size=\"14.00\" fill=\"#000000\">gini = 0.448</text>\n<text text-anchor=\"middle\" x=\"770.5\" y=\"-22.8\" font-family=\"Helvetica,sans-Serif\" font-size=\"14.00\" fill=\"#000000\">samples = 83</text>\n<text text-anchor=\"middle\" x=\"770.5\" y=\"-7.8\" font-family=\"Helvetica,sans-Serif\" font-size=\"14.00\" fill=\"#000000\">value = [8, 59, 16]</text>\n</g>\n<!-- 9&#45;&gt;11 -->\n<g id=\"edge11\" class=\"edge\">\n<title>9&#45;&gt;11</title>\n<path fill=\"none\" stroke=\"#000000\" d=\"M718.0576,-88.9777C725.6669,-79.9123 733.8939,-70.111 741.5253,-61.0192\"/>\n<polygon fill=\"#000000\" stroke=\"#000000\" points=\"744.2995,-63.1581 748.0479,-53.2485 738.938,-58.6577 744.2995,-63.1581\"/>\n</g>\n<!-- 13 -->\n<g id=\"node14\" class=\"node\">\n<title>13</title>\n<path fill=\"#8a47e7\" stroke=\"#000000\" d=\"M965,-53C965,-53 866,-53 866,-53 860,-53 854,-47 854,-41 854,-41 854,-12 854,-12 854,-6 860,0 866,0 866,0 965,0 965,0 971,0 977,-6 977,-12 977,-12 977,-41 977,-41 977,-47 971,-53 965,-53\"/>\n<text text-anchor=\"middle\" x=\"915.5\" y=\"-37.8\" font-family=\"Helvetica,sans-Serif\" font-size=\"14.00\" fill=\"#000000\">gini = 0.133</text>\n<text text-anchor=\"middle\" x=\"915.5\" y=\"-22.8\" font-family=\"Helvetica,sans-Serif\" font-size=\"14.00\" fill=\"#000000\">samples = 100</text>\n<text text-anchor=\"middle\" x=\"915.5\" y=\"-7.8\" font-family=\"Helvetica,sans-Serif\" font-size=\"14.00\" fill=\"#000000\">value = [3, 4, 93]</text>\n</g>\n<!-- 12&#45;&gt;13 -->\n<g id=\"edge13\" class=\"edge\">\n<title>12&#45;&gt;13</title>\n<path fill=\"none\" stroke=\"#000000\" d=\"M915.5,-88.9777C915.5,-80.7364 915.5,-71.887 915.5,-63.5153\"/>\n<polygon fill=\"#000000\" stroke=\"#000000\" points=\"919.0001,-63.2484 915.5,-53.2485 912.0001,-63.2485 919.0001,-63.2484\"/>\n</g>\n<!-- 14 -->\n<g id=\"node15\" class=\"node\">\n<title>14</title>\n<path fill=\"#d8c2f7\" stroke=\"#000000\" d=\"M1114,-53C1114,-53 1007,-53 1007,-53 1001,-53 995,-47 995,-41 995,-41 995,-12 995,-12 995,-6 1001,0 1007,0 1007,0 1114,0 1114,0 1120,0 1126,-6 1126,-12 1126,-12 1126,-41 1126,-41 1126,-47 1120,-53 1114,-53\"/>\n<text text-anchor=\"middle\" x=\"1060.5\" y=\"-37.8\" font-family=\"Helvetica,sans-Serif\" font-size=\"14.00\" fill=\"#000000\">gini = 0.592</text>\n<text text-anchor=\"middle\" x=\"1060.5\" y=\"-22.8\" font-family=\"Helvetica,sans-Serif\" font-size=\"14.00\" fill=\"#000000\">samples = 62</text>\n<text text-anchor=\"middle\" x=\"1060.5\" y=\"-7.8\" font-family=\"Helvetica,sans-Serif\" font-size=\"14.00\" fill=\"#000000\">value = [9, 20, 33]</text>\n</g>\n<!-- 12&#45;&gt;14 -->\n<g id=\"edge14\" class=\"edge\">\n<title>12&#45;&gt;14</title>\n<path fill=\"none\" stroke=\"#000000\" d=\"M966.6216,-88.9777C981.3439,-79.1798 997.3579,-68.5222 1011.9215,-58.8298\"/>\n<polygon fill=\"#000000\" stroke=\"#000000\" points=\"1013.9222,-61.7026 1020.308,-53.2485 1010.0439,-55.8752 1013.9222,-61.7026\"/>\n</g>\n</g>\n</svg>\n"
          },
          "metadata": {
            "tags": []
          },
          "execution_count": 78
        }
      ]
    },
    {
      "cell_type": "code",
      "metadata": {
        "id": "t2lKIMatV4J6"
      },
      "source": [
        ""
      ],
      "execution_count": null,
      "outputs": []
    }
  ]
}